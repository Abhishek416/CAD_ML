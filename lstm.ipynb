{
  "nbformat": 4,
  "nbformat_minor": 0,
  "metadata": {
    "colab": {
      "provenance": [],
      "authorship_tag": "ABX9TyMum31QC6IPB2kXBPHgPnWU",
      "include_colab_link": true
    },
    "kernelspec": {
      "name": "python3",
      "display_name": "Python 3"
    },
    "language_info": {
      "name": "python"
    }
  },
  "cells": [
    {
      "cell_type": "markdown",
      "metadata": {
        "id": "view-in-github",
        "colab_type": "text"
      },
      "source": [
        "<a href=\"https://colab.research.google.com/github/Abhishek416/CAD_ML/blob/main/lstm.ipynb\" target=\"_parent\"><img src=\"https://colab.research.google.com/assets/colab-badge.svg\" alt=\"Open In Colab\"/></a>"
      ]
    },
    {
      "cell_type": "code",
      "execution_count": null,
      "metadata": {
        "id": "sHfrAF4TmU_S"
      },
      "outputs": [],
      "source": [
        "import numpy as np\n",
        "import matplotlib.pyplot as plt\n",
        "import pandas as pd\n",
        "import seaborn as sns\n"
      ]
    },
    {
      "cell_type": "code",
      "source": [
        "df=pd.read_csv('/content/smote-applied.csv')\n",
        "df.head(4)"
      ],
      "metadata": {
        "colab": {
          "base_uri": "https://localhost:8080/",
          "height": 238
        },
        "id": "Z19Z2C8dmg3I",
        "outputId": "d0ebca71-445b-4208-f201-a60065fc2ff0"
      },
      "execution_count": null,
      "outputs": [
        {
          "output_type": "execute_result",
          "data": {
            "text/plain": [
              "    Age Sex ChestPainType  RestingBP  Cholesterol  FastingBS RestingECG  \\\n",
              "0  40.0   M           ATA      140.0        289.0        0.0     Normal   \n",
              "1  49.0   F           NAP      160.0        180.0        0.0     Normal   \n",
              "2  37.0   M           ATA      130.0        283.0        0.0         ST   \n",
              "3  48.0   F           ASY      138.0        214.0        0.0     Normal   \n",
              "\n",
              "   MaxHR ExerciseAngina  Oldpeak ST_Slope  HeartDisease  \n",
              "0  172.0              N      0.0       Up             0  \n",
              "1  156.0              N      1.0     Flat             1  \n",
              "2   98.0              N      0.0       Up             0  \n",
              "3  108.0              Y      1.5     Flat             1  "
            ],
            "text/html": [
              "\n",
              "  <div id=\"df-bd605a9c-e8fb-4eaa-a020-65729fd289c5\">\n",
              "    <div class=\"colab-df-container\">\n",
              "      <div>\n",
              "<style scoped>\n",
              "    .dataframe tbody tr th:only-of-type {\n",
              "        vertical-align: middle;\n",
              "    }\n",
              "\n",
              "    .dataframe tbody tr th {\n",
              "        vertical-align: top;\n",
              "    }\n",
              "\n",
              "    .dataframe thead th {\n",
              "        text-align: right;\n",
              "    }\n",
              "</style>\n",
              "<table border=\"1\" class=\"dataframe\">\n",
              "  <thead>\n",
              "    <tr style=\"text-align: right;\">\n",
              "      <th></th>\n",
              "      <th>Age</th>\n",
              "      <th>Sex</th>\n",
              "      <th>ChestPainType</th>\n",
              "      <th>RestingBP</th>\n",
              "      <th>Cholesterol</th>\n",
              "      <th>FastingBS</th>\n",
              "      <th>RestingECG</th>\n",
              "      <th>MaxHR</th>\n",
              "      <th>ExerciseAngina</th>\n",
              "      <th>Oldpeak</th>\n",
              "      <th>ST_Slope</th>\n",
              "      <th>HeartDisease</th>\n",
              "    </tr>\n",
              "  </thead>\n",
              "  <tbody>\n",
              "    <tr>\n",
              "      <th>0</th>\n",
              "      <td>40.0</td>\n",
              "      <td>M</td>\n",
              "      <td>ATA</td>\n",
              "      <td>140.0</td>\n",
              "      <td>289.0</td>\n",
              "      <td>0.0</td>\n",
              "      <td>Normal</td>\n",
              "      <td>172.0</td>\n",
              "      <td>N</td>\n",
              "      <td>0.0</td>\n",
              "      <td>Up</td>\n",
              "      <td>0</td>\n",
              "    </tr>\n",
              "    <tr>\n",
              "      <th>1</th>\n",
              "      <td>49.0</td>\n",
              "      <td>F</td>\n",
              "      <td>NAP</td>\n",
              "      <td>160.0</td>\n",
              "      <td>180.0</td>\n",
              "      <td>0.0</td>\n",
              "      <td>Normal</td>\n",
              "      <td>156.0</td>\n",
              "      <td>N</td>\n",
              "      <td>1.0</td>\n",
              "      <td>Flat</td>\n",
              "      <td>1</td>\n",
              "    </tr>\n",
              "    <tr>\n",
              "      <th>2</th>\n",
              "      <td>37.0</td>\n",
              "      <td>M</td>\n",
              "      <td>ATA</td>\n",
              "      <td>130.0</td>\n",
              "      <td>283.0</td>\n",
              "      <td>0.0</td>\n",
              "      <td>ST</td>\n",
              "      <td>98.0</td>\n",
              "      <td>N</td>\n",
              "      <td>0.0</td>\n",
              "      <td>Up</td>\n",
              "      <td>0</td>\n",
              "    </tr>\n",
              "    <tr>\n",
              "      <th>3</th>\n",
              "      <td>48.0</td>\n",
              "      <td>F</td>\n",
              "      <td>ASY</td>\n",
              "      <td>138.0</td>\n",
              "      <td>214.0</td>\n",
              "      <td>0.0</td>\n",
              "      <td>Normal</td>\n",
              "      <td>108.0</td>\n",
              "      <td>Y</td>\n",
              "      <td>1.5</td>\n",
              "      <td>Flat</td>\n",
              "      <td>1</td>\n",
              "    </tr>\n",
              "  </tbody>\n",
              "</table>\n",
              "</div>\n",
              "      <button class=\"colab-df-convert\" onclick=\"convertToInteractive('df-bd605a9c-e8fb-4eaa-a020-65729fd289c5')\"\n",
              "              title=\"Convert this dataframe to an interactive table.\"\n",
              "              style=\"display:none;\">\n",
              "        \n",
              "  <svg xmlns=\"http://www.w3.org/2000/svg\" height=\"24px\"viewBox=\"0 0 24 24\"\n",
              "       width=\"24px\">\n",
              "    <path d=\"M0 0h24v24H0V0z\" fill=\"none\"/>\n",
              "    <path d=\"M18.56 5.44l.94 2.06.94-2.06 2.06-.94-2.06-.94-.94-2.06-.94 2.06-2.06.94zm-11 1L8.5 8.5l.94-2.06 2.06-.94-2.06-.94L8.5 2.5l-.94 2.06-2.06.94zm10 10l.94 2.06.94-2.06 2.06-.94-2.06-.94-.94-2.06-.94 2.06-2.06.94z\"/><path d=\"M17.41 7.96l-1.37-1.37c-.4-.4-.92-.59-1.43-.59-.52 0-1.04.2-1.43.59L10.3 9.45l-7.72 7.72c-.78.78-.78 2.05 0 2.83L4 21.41c.39.39.9.59 1.41.59.51 0 1.02-.2 1.41-.59l7.78-7.78 2.81-2.81c.8-.78.8-2.07 0-2.86zM5.41 20L4 18.59l7.72-7.72 1.47 1.35L5.41 20z\"/>\n",
              "  </svg>\n",
              "      </button>\n",
              "      \n",
              "  <style>\n",
              "    .colab-df-container {\n",
              "      display:flex;\n",
              "      flex-wrap:wrap;\n",
              "      gap: 12px;\n",
              "    }\n",
              "\n",
              "    .colab-df-convert {\n",
              "      background-color: #E8F0FE;\n",
              "      border: none;\n",
              "      border-radius: 50%;\n",
              "      cursor: pointer;\n",
              "      display: none;\n",
              "      fill: #1967D2;\n",
              "      height: 32px;\n",
              "      padding: 0 0 0 0;\n",
              "      width: 32px;\n",
              "    }\n",
              "\n",
              "    .colab-df-convert:hover {\n",
              "      background-color: #E2EBFA;\n",
              "      box-shadow: 0px 1px 2px rgba(60, 64, 67, 0.3), 0px 1px 3px 1px rgba(60, 64, 67, 0.15);\n",
              "      fill: #174EA6;\n",
              "    }\n",
              "\n",
              "    [theme=dark] .colab-df-convert {\n",
              "      background-color: #3B4455;\n",
              "      fill: #D2E3FC;\n",
              "    }\n",
              "\n",
              "    [theme=dark] .colab-df-convert:hover {\n",
              "      background-color: #434B5C;\n",
              "      box-shadow: 0px 1px 3px 1px rgba(0, 0, 0, 0.15);\n",
              "      filter: drop-shadow(0px 1px 2px rgba(0, 0, 0, 0.3));\n",
              "      fill: #FFFFFF;\n",
              "    }\n",
              "  </style>\n",
              "\n",
              "      <script>\n",
              "        const buttonEl =\n",
              "          document.querySelector('#df-bd605a9c-e8fb-4eaa-a020-65729fd289c5 button.colab-df-convert');\n",
              "        buttonEl.style.display =\n",
              "          google.colab.kernel.accessAllowed ? 'block' : 'none';\n",
              "\n",
              "        async function convertToInteractive(key) {\n",
              "          const element = document.querySelector('#df-bd605a9c-e8fb-4eaa-a020-65729fd289c5');\n",
              "          const dataTable =\n",
              "            await google.colab.kernel.invokeFunction('convertToInteractive',\n",
              "                                                     [key], {});\n",
              "          if (!dataTable) return;\n",
              "\n",
              "          const docLinkHtml = 'Like what you see? Visit the ' +\n",
              "            '<a target=\"_blank\" href=https://colab.research.google.com/notebooks/data_table.ipynb>data table notebook</a>'\n",
              "            + ' to learn more about interactive tables.';\n",
              "          element.innerHTML = '';\n",
              "          dataTable['output_type'] = 'display_data';\n",
              "          await google.colab.output.renderOutput(dataTable, element);\n",
              "          const docLink = document.createElement('div');\n",
              "          docLink.innerHTML = docLinkHtml;\n",
              "          element.appendChild(docLink);\n",
              "        }\n",
              "      </script>\n",
              "    </div>\n",
              "  </div>\n",
              "  "
            ]
          },
          "metadata": {},
          "execution_count": 2
        }
      ]
    },
    {
      "cell_type": "code",
      "source": [
        "print(f\"The shape of the Dataset is: {df.shape}, which means there are {df.shape[0]} rows and {df.shape[1]} columns.\")"
      ],
      "metadata": {
        "colab": {
          "base_uri": "https://localhost:8080/"
        },
        "id": "9Nr4u7llmvb7",
        "outputId": "def21f93-51da-4400-b80f-c745d6a98fd3"
      },
      "execution_count": null,
      "outputs": [
        {
          "output_type": "stream",
          "name": "stdout",
          "text": [
            "The shape of the Dataset is: (1016, 12), which means there are 1016 rows and 12 columns.\n"
          ]
        }
      ]
    },
    {
      "cell_type": "code",
      "source": [
        "# Check if any of the columns have null values\n",
        "print(df.isnull().sum())"
      ],
      "metadata": {
        "colab": {
          "base_uri": "https://localhost:8080/"
        },
        "id": "14iAS4iCmzvr",
        "outputId": "9325a701-280e-4a94-88d5-9350e7c9d6c0"
      },
      "execution_count": null,
      "outputs": [
        {
          "output_type": "stream",
          "name": "stdout",
          "text": [
            "Age               0\n",
            "Sex               0\n",
            "ChestPainType     0\n",
            "RestingBP         0\n",
            "Cholesterol       0\n",
            "FastingBS         0\n",
            "RestingECG        0\n",
            "MaxHR             0\n",
            "ExerciseAngina    0\n",
            "Oldpeak           0\n",
            "ST_Slope          0\n",
            "HeartDisease      0\n",
            "dtype: int64\n"
          ]
        }
      ]
    },
    {
      "cell_type": "code",
      "source": [
        "df.describe()"
      ],
      "metadata": {
        "colab": {
          "base_uri": "https://localhost:8080/",
          "height": 300
        },
        "id": "H8WZZUhnm26p",
        "outputId": "1bddc80e-e91b-4fe4-c324-a2b3f90fb959"
      },
      "execution_count": null,
      "outputs": [
        {
          "output_type": "execute_result",
          "data": {
            "text/plain": [
              "               Age    RestingBP  Cholesterol    FastingBS        MaxHR  \\\n",
              "count  1016.000000  1016.000000  1016.000000  1016.000000  1016.000000   \n",
              "mean     53.225218   132.135255   202.762623     0.220275   137.648596   \n",
              "std       9.334498    18.118534   106.824466     0.411425    25.229904   \n",
              "min      28.000000     0.000000     0.000000     0.000000    60.000000   \n",
              "25%      46.640134   120.000000   179.750000     0.000000   120.000000   \n",
              "50%      54.000000   130.000000   224.000000     0.000000   140.000000   \n",
              "75%      60.000000   140.000000   268.000000     0.000000   157.000000   \n",
              "max      77.000000   200.000000   603.000000     1.000000   202.000000   \n",
              "\n",
              "          Oldpeak  HeartDisease  \n",
              "count  1016.00000   1016.000000  \n",
              "mean      0.83906      0.500000  \n",
              "std       1.04448      0.500246  \n",
              "min      -2.60000      0.000000  \n",
              "25%       0.00000      0.000000  \n",
              "50%       0.40000      0.500000  \n",
              "75%       1.50000      1.000000  \n",
              "max       6.20000      1.000000  "
            ],
            "text/html": [
              "\n",
              "  <div id=\"df-491a5101-16fc-48ff-8ac1-3fc847e2c5b6\">\n",
              "    <div class=\"colab-df-container\">\n",
              "      <div>\n",
              "<style scoped>\n",
              "    .dataframe tbody tr th:only-of-type {\n",
              "        vertical-align: middle;\n",
              "    }\n",
              "\n",
              "    .dataframe tbody tr th {\n",
              "        vertical-align: top;\n",
              "    }\n",
              "\n",
              "    .dataframe thead th {\n",
              "        text-align: right;\n",
              "    }\n",
              "</style>\n",
              "<table border=\"1\" class=\"dataframe\">\n",
              "  <thead>\n",
              "    <tr style=\"text-align: right;\">\n",
              "      <th></th>\n",
              "      <th>Age</th>\n",
              "      <th>RestingBP</th>\n",
              "      <th>Cholesterol</th>\n",
              "      <th>FastingBS</th>\n",
              "      <th>MaxHR</th>\n",
              "      <th>Oldpeak</th>\n",
              "      <th>HeartDisease</th>\n",
              "    </tr>\n",
              "  </thead>\n",
              "  <tbody>\n",
              "    <tr>\n",
              "      <th>count</th>\n",
              "      <td>1016.000000</td>\n",
              "      <td>1016.000000</td>\n",
              "      <td>1016.000000</td>\n",
              "      <td>1016.000000</td>\n",
              "      <td>1016.000000</td>\n",
              "      <td>1016.00000</td>\n",
              "      <td>1016.000000</td>\n",
              "    </tr>\n",
              "    <tr>\n",
              "      <th>mean</th>\n",
              "      <td>53.225218</td>\n",
              "      <td>132.135255</td>\n",
              "      <td>202.762623</td>\n",
              "      <td>0.220275</td>\n",
              "      <td>137.648596</td>\n",
              "      <td>0.83906</td>\n",
              "      <td>0.500000</td>\n",
              "    </tr>\n",
              "    <tr>\n",
              "      <th>std</th>\n",
              "      <td>9.334498</td>\n",
              "      <td>18.118534</td>\n",
              "      <td>106.824466</td>\n",
              "      <td>0.411425</td>\n",
              "      <td>25.229904</td>\n",
              "      <td>1.04448</td>\n",
              "      <td>0.500246</td>\n",
              "    </tr>\n",
              "    <tr>\n",
              "      <th>min</th>\n",
              "      <td>28.000000</td>\n",
              "      <td>0.000000</td>\n",
              "      <td>0.000000</td>\n",
              "      <td>0.000000</td>\n",
              "      <td>60.000000</td>\n",
              "      <td>-2.60000</td>\n",
              "      <td>0.000000</td>\n",
              "    </tr>\n",
              "    <tr>\n",
              "      <th>25%</th>\n",
              "      <td>46.640134</td>\n",
              "      <td>120.000000</td>\n",
              "      <td>179.750000</td>\n",
              "      <td>0.000000</td>\n",
              "      <td>120.000000</td>\n",
              "      <td>0.00000</td>\n",
              "      <td>0.000000</td>\n",
              "    </tr>\n",
              "    <tr>\n",
              "      <th>50%</th>\n",
              "      <td>54.000000</td>\n",
              "      <td>130.000000</td>\n",
              "      <td>224.000000</td>\n",
              "      <td>0.000000</td>\n",
              "      <td>140.000000</td>\n",
              "      <td>0.40000</td>\n",
              "      <td>0.500000</td>\n",
              "    </tr>\n",
              "    <tr>\n",
              "      <th>75%</th>\n",
              "      <td>60.000000</td>\n",
              "      <td>140.000000</td>\n",
              "      <td>268.000000</td>\n",
              "      <td>0.000000</td>\n",
              "      <td>157.000000</td>\n",
              "      <td>1.50000</td>\n",
              "      <td>1.000000</td>\n",
              "    </tr>\n",
              "    <tr>\n",
              "      <th>max</th>\n",
              "      <td>77.000000</td>\n",
              "      <td>200.000000</td>\n",
              "      <td>603.000000</td>\n",
              "      <td>1.000000</td>\n",
              "      <td>202.000000</td>\n",
              "      <td>6.20000</td>\n",
              "      <td>1.000000</td>\n",
              "    </tr>\n",
              "  </tbody>\n",
              "</table>\n",
              "</div>\n",
              "      <button class=\"colab-df-convert\" onclick=\"convertToInteractive('df-491a5101-16fc-48ff-8ac1-3fc847e2c5b6')\"\n",
              "              title=\"Convert this dataframe to an interactive table.\"\n",
              "              style=\"display:none;\">\n",
              "        \n",
              "  <svg xmlns=\"http://www.w3.org/2000/svg\" height=\"24px\"viewBox=\"0 0 24 24\"\n",
              "       width=\"24px\">\n",
              "    <path d=\"M0 0h24v24H0V0z\" fill=\"none\"/>\n",
              "    <path d=\"M18.56 5.44l.94 2.06.94-2.06 2.06-.94-2.06-.94-.94-2.06-.94 2.06-2.06.94zm-11 1L8.5 8.5l.94-2.06 2.06-.94-2.06-.94L8.5 2.5l-.94 2.06-2.06.94zm10 10l.94 2.06.94-2.06 2.06-.94-2.06-.94-.94-2.06-.94 2.06-2.06.94z\"/><path d=\"M17.41 7.96l-1.37-1.37c-.4-.4-.92-.59-1.43-.59-.52 0-1.04.2-1.43.59L10.3 9.45l-7.72 7.72c-.78.78-.78 2.05 0 2.83L4 21.41c.39.39.9.59 1.41.59.51 0 1.02-.2 1.41-.59l7.78-7.78 2.81-2.81c.8-.78.8-2.07 0-2.86zM5.41 20L4 18.59l7.72-7.72 1.47 1.35L5.41 20z\"/>\n",
              "  </svg>\n",
              "      </button>\n",
              "      \n",
              "  <style>\n",
              "    .colab-df-container {\n",
              "      display:flex;\n",
              "      flex-wrap:wrap;\n",
              "      gap: 12px;\n",
              "    }\n",
              "\n",
              "    .colab-df-convert {\n",
              "      background-color: #E8F0FE;\n",
              "      border: none;\n",
              "      border-radius: 50%;\n",
              "      cursor: pointer;\n",
              "      display: none;\n",
              "      fill: #1967D2;\n",
              "      height: 32px;\n",
              "      padding: 0 0 0 0;\n",
              "      width: 32px;\n",
              "    }\n",
              "\n",
              "    .colab-df-convert:hover {\n",
              "      background-color: #E2EBFA;\n",
              "      box-shadow: 0px 1px 2px rgba(60, 64, 67, 0.3), 0px 1px 3px 1px rgba(60, 64, 67, 0.15);\n",
              "      fill: #174EA6;\n",
              "    }\n",
              "\n",
              "    [theme=dark] .colab-df-convert {\n",
              "      background-color: #3B4455;\n",
              "      fill: #D2E3FC;\n",
              "    }\n",
              "\n",
              "    [theme=dark] .colab-df-convert:hover {\n",
              "      background-color: #434B5C;\n",
              "      box-shadow: 0px 1px 3px 1px rgba(0, 0, 0, 0.15);\n",
              "      filter: drop-shadow(0px 1px 2px rgba(0, 0, 0, 0.3));\n",
              "      fill: #FFFFFF;\n",
              "    }\n",
              "  </style>\n",
              "\n",
              "      <script>\n",
              "        const buttonEl =\n",
              "          document.querySelector('#df-491a5101-16fc-48ff-8ac1-3fc847e2c5b6 button.colab-df-convert');\n",
              "        buttonEl.style.display =\n",
              "          google.colab.kernel.accessAllowed ? 'block' : 'none';\n",
              "\n",
              "        async function convertToInteractive(key) {\n",
              "          const element = document.querySelector('#df-491a5101-16fc-48ff-8ac1-3fc847e2c5b6');\n",
              "          const dataTable =\n",
              "            await google.colab.kernel.invokeFunction('convertToInteractive',\n",
              "                                                     [key], {});\n",
              "          if (!dataTable) return;\n",
              "\n",
              "          const docLinkHtml = 'Like what you see? Visit the ' +\n",
              "            '<a target=\"_blank\" href=https://colab.research.google.com/notebooks/data_table.ipynb>data table notebook</a>'\n",
              "            + ' to learn more about interactive tables.';\n",
              "          element.innerHTML = '';\n",
              "          dataTable['output_type'] = 'display_data';\n",
              "          await google.colab.output.renderOutput(dataTable, element);\n",
              "          const docLink = document.createElement('div');\n",
              "          docLink.innerHTML = docLinkHtml;\n",
              "          element.appendChild(docLink);\n",
              "        }\n",
              "      </script>\n",
              "    </div>\n",
              "  </div>\n",
              "  "
            ]
          },
          "metadata": {},
          "execution_count": 5
        }
      ]
    },
    {
      "cell_type": "code",
      "source": [
        "# plt.figure(figsize=(10,10))\n",
        "# sns.heatmap(df.corr(), fmt='.2f', annot=True);"
      ],
      "metadata": {
        "id": "LAtur7lUm539"
      },
      "execution_count": null,
      "outputs": []
    },
    {
      "cell_type": "code",
      "source": [
        "#tranforming categorical data to numerical\n",
        "from sklearn.preprocessing import LabelEncoder\n",
        "labelencoder= LabelEncoder()\n",
        "for column in df:\n",
        "    df[column] = labelencoder.fit_transform(df[column])\n",
        "df.head()"
      ],
      "metadata": {
        "colab": {
          "base_uri": "https://localhost:8080/",
          "height": 270
        },
        "id": "MyKNsWflm8gT",
        "outputId": "b5336f50-fb8c-4dfe-fda6-8129dbe2d5ce"
      },
      "execution_count": null,
      "outputs": [
        {
          "output_type": "execute_result",
          "data": {
            "text/plain": [
              "   Age  Sex  ChestPainType  RestingBP  Cholesterol  FastingBS  RestingECG  \\\n",
              "0   19    1              1        103          220          0           1   \n",
              "1   61    0              2        130           46          0           1   \n",
              "2   13    1              1         71          212          0           2   \n",
              "3   59    0              0         97           96          0           1   \n",
              "4   90    1              2        121           66          0           1   \n",
              "\n",
              "   MaxHR  ExerciseAngina  Oldpeak  ST_Slope  HeartDisease  \n",
              "0    178               0       10         2             0  \n",
              "1    136               0       59         1             1  \n",
              "2     27               0       10         2             0  \n",
              "3     39               1       68         1             1  \n",
              "4     59               0       10         2             0  "
            ],
            "text/html": [
              "\n",
              "  <div id=\"df-26052706-0b4c-4b7c-b949-008d8a924c1d\">\n",
              "    <div class=\"colab-df-container\">\n",
              "      <div>\n",
              "<style scoped>\n",
              "    .dataframe tbody tr th:only-of-type {\n",
              "        vertical-align: middle;\n",
              "    }\n",
              "\n",
              "    .dataframe tbody tr th {\n",
              "        vertical-align: top;\n",
              "    }\n",
              "\n",
              "    .dataframe thead th {\n",
              "        text-align: right;\n",
              "    }\n",
              "</style>\n",
              "<table border=\"1\" class=\"dataframe\">\n",
              "  <thead>\n",
              "    <tr style=\"text-align: right;\">\n",
              "      <th></th>\n",
              "      <th>Age</th>\n",
              "      <th>Sex</th>\n",
              "      <th>ChestPainType</th>\n",
              "      <th>RestingBP</th>\n",
              "      <th>Cholesterol</th>\n",
              "      <th>FastingBS</th>\n",
              "      <th>RestingECG</th>\n",
              "      <th>MaxHR</th>\n",
              "      <th>ExerciseAngina</th>\n",
              "      <th>Oldpeak</th>\n",
              "      <th>ST_Slope</th>\n",
              "      <th>HeartDisease</th>\n",
              "    </tr>\n",
              "  </thead>\n",
              "  <tbody>\n",
              "    <tr>\n",
              "      <th>0</th>\n",
              "      <td>19</td>\n",
              "      <td>1</td>\n",
              "      <td>1</td>\n",
              "      <td>103</td>\n",
              "      <td>220</td>\n",
              "      <td>0</td>\n",
              "      <td>1</td>\n",
              "      <td>178</td>\n",
              "      <td>0</td>\n",
              "      <td>10</td>\n",
              "      <td>2</td>\n",
              "      <td>0</td>\n",
              "    </tr>\n",
              "    <tr>\n",
              "      <th>1</th>\n",
              "      <td>61</td>\n",
              "      <td>0</td>\n",
              "      <td>2</td>\n",
              "      <td>130</td>\n",
              "      <td>46</td>\n",
              "      <td>0</td>\n",
              "      <td>1</td>\n",
              "      <td>136</td>\n",
              "      <td>0</td>\n",
              "      <td>59</td>\n",
              "      <td>1</td>\n",
              "      <td>1</td>\n",
              "    </tr>\n",
              "    <tr>\n",
              "      <th>2</th>\n",
              "      <td>13</td>\n",
              "      <td>1</td>\n",
              "      <td>1</td>\n",
              "      <td>71</td>\n",
              "      <td>212</td>\n",
              "      <td>0</td>\n",
              "      <td>2</td>\n",
              "      <td>27</td>\n",
              "      <td>0</td>\n",
              "      <td>10</td>\n",
              "      <td>2</td>\n",
              "      <td>0</td>\n",
              "    </tr>\n",
              "    <tr>\n",
              "      <th>3</th>\n",
              "      <td>59</td>\n",
              "      <td>0</td>\n",
              "      <td>0</td>\n",
              "      <td>97</td>\n",
              "      <td>96</td>\n",
              "      <td>0</td>\n",
              "      <td>1</td>\n",
              "      <td>39</td>\n",
              "      <td>1</td>\n",
              "      <td>68</td>\n",
              "      <td>1</td>\n",
              "      <td>1</td>\n",
              "    </tr>\n",
              "    <tr>\n",
              "      <th>4</th>\n",
              "      <td>90</td>\n",
              "      <td>1</td>\n",
              "      <td>2</td>\n",
              "      <td>121</td>\n",
              "      <td>66</td>\n",
              "      <td>0</td>\n",
              "      <td>1</td>\n",
              "      <td>59</td>\n",
              "      <td>0</td>\n",
              "      <td>10</td>\n",
              "      <td>2</td>\n",
              "      <td>0</td>\n",
              "    </tr>\n",
              "  </tbody>\n",
              "</table>\n",
              "</div>\n",
              "      <button class=\"colab-df-convert\" onclick=\"convertToInteractive('df-26052706-0b4c-4b7c-b949-008d8a924c1d')\"\n",
              "              title=\"Convert this dataframe to an interactive table.\"\n",
              "              style=\"display:none;\">\n",
              "        \n",
              "  <svg xmlns=\"http://www.w3.org/2000/svg\" height=\"24px\"viewBox=\"0 0 24 24\"\n",
              "       width=\"24px\">\n",
              "    <path d=\"M0 0h24v24H0V0z\" fill=\"none\"/>\n",
              "    <path d=\"M18.56 5.44l.94 2.06.94-2.06 2.06-.94-2.06-.94-.94-2.06-.94 2.06-2.06.94zm-11 1L8.5 8.5l.94-2.06 2.06-.94-2.06-.94L8.5 2.5l-.94 2.06-2.06.94zm10 10l.94 2.06.94-2.06 2.06-.94-2.06-.94-.94-2.06-.94 2.06-2.06.94z\"/><path d=\"M17.41 7.96l-1.37-1.37c-.4-.4-.92-.59-1.43-.59-.52 0-1.04.2-1.43.59L10.3 9.45l-7.72 7.72c-.78.78-.78 2.05 0 2.83L4 21.41c.39.39.9.59 1.41.59.51 0 1.02-.2 1.41-.59l7.78-7.78 2.81-2.81c.8-.78.8-2.07 0-2.86zM5.41 20L4 18.59l7.72-7.72 1.47 1.35L5.41 20z\"/>\n",
              "  </svg>\n",
              "      </button>\n",
              "      \n",
              "  <style>\n",
              "    .colab-df-container {\n",
              "      display:flex;\n",
              "      flex-wrap:wrap;\n",
              "      gap: 12px;\n",
              "    }\n",
              "\n",
              "    .colab-df-convert {\n",
              "      background-color: #E8F0FE;\n",
              "      border: none;\n",
              "      border-radius: 50%;\n",
              "      cursor: pointer;\n",
              "      display: none;\n",
              "      fill: #1967D2;\n",
              "      height: 32px;\n",
              "      padding: 0 0 0 0;\n",
              "      width: 32px;\n",
              "    }\n",
              "\n",
              "    .colab-df-convert:hover {\n",
              "      background-color: #E2EBFA;\n",
              "      box-shadow: 0px 1px 2px rgba(60, 64, 67, 0.3), 0px 1px 3px 1px rgba(60, 64, 67, 0.15);\n",
              "      fill: #174EA6;\n",
              "    }\n",
              "\n",
              "    [theme=dark] .colab-df-convert {\n",
              "      background-color: #3B4455;\n",
              "      fill: #D2E3FC;\n",
              "    }\n",
              "\n",
              "    [theme=dark] .colab-df-convert:hover {\n",
              "      background-color: #434B5C;\n",
              "      box-shadow: 0px 1px 3px 1px rgba(0, 0, 0, 0.15);\n",
              "      filter: drop-shadow(0px 1px 2px rgba(0, 0, 0, 0.3));\n",
              "      fill: #FFFFFF;\n",
              "    }\n",
              "  </style>\n",
              "\n",
              "      <script>\n",
              "        const buttonEl =\n",
              "          document.querySelector('#df-26052706-0b4c-4b7c-b949-008d8a924c1d button.colab-df-convert');\n",
              "        buttonEl.style.display =\n",
              "          google.colab.kernel.accessAllowed ? 'block' : 'none';\n",
              "\n",
              "        async function convertToInteractive(key) {\n",
              "          const element = document.querySelector('#df-26052706-0b4c-4b7c-b949-008d8a924c1d');\n",
              "          const dataTable =\n",
              "            await google.colab.kernel.invokeFunction('convertToInteractive',\n",
              "                                                     [key], {});\n",
              "          if (!dataTable) return;\n",
              "\n",
              "          const docLinkHtml = 'Like what you see? Visit the ' +\n",
              "            '<a target=\"_blank\" href=https://colab.research.google.com/notebooks/data_table.ipynb>data table notebook</a>'\n",
              "            + ' to learn more about interactive tables.';\n",
              "          element.innerHTML = '';\n",
              "          dataTable['output_type'] = 'display_data';\n",
              "          await google.colab.output.renderOutput(dataTable, element);\n",
              "          const docLink = document.createElement('div');\n",
              "          docLink.innerHTML = docLinkHtml;\n",
              "          element.appendChild(docLink);\n",
              "        }\n",
              "      </script>\n",
              "    </div>\n",
              "  </div>\n",
              "  "
            ]
          },
          "metadata": {},
          "execution_count": 7
        }
      ]
    },
    {
      "cell_type": "code",
      "source": [
        "df[\"HeartDisease\"].value_counts().plot(kind='bar',\n",
        "                                   title='Disease prediction results')\n",
        "plt.show()"
      ],
      "metadata": {
        "colab": {
          "base_uri": "https://localhost:8080/",
          "height": 447
        },
        "id": "biSnCOpgnD_O",
        "outputId": "092b145c-2100-4767-894f-dae30cd07372"
      },
      "execution_count": null,
      "outputs": [
        {
          "output_type": "display_data",
          "data": {
            "text/plain": [
              "<Figure size 640x480 with 1 Axes>"
            ],
            "image/png": "[encoded data removed]"
          },
          "metadata": {}
        }
      ]
    },
    {
      "cell_type": "code",
      "source": [
        "#separating input and output attributes\n",
        "X = df.iloc[:,:11].values\n",
        "y = df.iloc[:,11:].values"
      ],
      "metadata": {
        "id": "Q-n3mXrinHvG"
      },
      "execution_count": null,
      "outputs": []
    },
    {
      "cell_type": "code",
      "source": [
        "#splitting into testing and training dataset\n",
        "from sklearn.model_selection import train_test_split\n",
        "X_train, X_test, y_train, y_test = train_test_split(X, y, test_size = 0.3, random_state = 0)\n",
        "print(len(X_train),len(X_test),len(y_train),len(y_test))"
      ],
      "metadata": {
        "colab": {
          "base_uri": "https://localhost:8080/"
        },
        "id": "ZE7L7yfvnKYF",
        "outputId": "8fb7a003-4791-4c1f-9283-9d14f45d7608"
      },
      "execution_count": null,
      "outputs": [
        {
          "output_type": "stream",
          "name": "stdout",
          "text": [
            "711 305 711 305\n"
          ]
        }
      ]
    },
    {
      "cell_type": "code",
      "source": [
        "import tensorflow as tf"
      ],
      "metadata": {
        "id": "l53JOXbfnN-l"
      },
      "execution_count": null,
      "outputs": []
    },
    {
      "cell_type": "code",
      "source": [
        "from keras.utils import to_categorical\n",
        "num_classes = 2\n",
        "\n",
        "y_train = to_categorical(y_train, num_classes)\n",
        "y_test = to_categorical(y_test, num_classes)\n",
        "\n",
        "print(y_train.shape)\n",
        "print(y_train[0])\n",
        "#print(len(y_train[0]))"
      ],
      "metadata": {
        "colab": {
          "base_uri": "https://localhost:8080/"
        },
        "id": "KGMpfznNnRWY",
        "outputId": "0464678e-1d1c-472c-dba9-23e6850e019d"
      },
      "execution_count": null,
      "outputs": [
        {
          "output_type": "stream",
          "name": "stdout",
          "text": [
            "(711, 2)\n",
            "[0. 1.]\n"
          ]
        }
      ]
    },
    {
      "cell_type": "code",
      "source": [
        "from keras.models import Sequential\n",
        "from keras.layers import Dense, Dropout, Activation,SimpleRNN\n",
        "from keras import optimizers\n",
        "#from keras.preprocessing.sequence import pad_sequences\n",
        "import numpy as np\n",
        "#import numpy as np\n",
        "\n",
        "#(samples, timesteps, features)\n",
        "#(batch_size, timesteps, input_dim)\n",
        "X_train = np.array(X_train).reshape((X_train.shape[0], X_train.shape[1], 1))\n",
        "print(X_train.shape)  #(750, 100, 1)\n",
        "\n",
        "X_test = np.array(X_test).reshape((X_test.shape[0], X_test.shape[1], 1))\n",
        "print(X_test.shape)"
      ],
      "metadata": {
        "colab": {
          "base_uri": "https://localhost:8080/"
        },
        "id": "5_3uCwH3nUgt",
        "outputId": "b9f6f4d0-9585-4b72-9d67-431013b218de"
      },
      "execution_count": null,
      "outputs": [
        {
          "output_type": "stream",
          "name": "stdout",
          "text": [
            "(711, 11, 1)\n",
            "(305, 11, 1)\n"
          ]
        }
      ]
    },
    {
      "cell_type": "code",
      "source": [
        "num_classes=2\n",
        "maxlen=11\n",
        "def lstm_rnn():\n",
        "    model = Sequential()\n",
        "    #model.add(SimpleRNN(50, input_shape = (X_train.shape[1], X_train.shape[2],), return_sequences = False))\n",
        "    model.add(SimpleRNN(50, input_shape = (maxlen,1), return_sequences = False))\n",
        "    model.add(Dense(num_classes))\n",
        "    model.add(Activation('softmax'))\n",
        "    model.summary()\n",
        "\n",
        "    adam = optimizers.Adam(lr = 0.001)\n",
        "    model.compile(loss = 'categorical_crossentropy', optimizer = adam, metrics = ['accuracy'])\n",
        "\n",
        "    return model"
      ],
      "metadata": {
        "id": "fzoguNrQnYJN"
      },
      "execution_count": null,
      "outputs": []
    },
    {
      "cell_type": "code",
      "source": [
        "from keras.wrappers.scikit_learn import KerasClassifier\n",
        "\n",
        "model = KerasClassifier(build_fn = lstm_rnn, epochs = 75, batch_size = 50)\n",
        "model.fit(X_train, y_train)"
      ],
      "metadata": {
        "colab": {
          "base_uri": "https://localhost:8080/"
        },
        "id": "FLVIQ8RGna2g",
        "outputId": "d669fe68-4415-4e19-c7d2-a00a2e94c4d4"
      },
      "execution_count": null,
      "outputs": [
        {
          "output_type": "stream",
          "name": "stderr",
          "text": [
            "<ipython-input-15-5adae40c88a7>:3: DeprecationWarning: KerasClassifier is deprecated, use Sci-Keras (https://github.com/adriangb/scikeras) instead. See https://www.adriangb.com/scikeras/stable/migration.html for help migrating.\n",
            "  model = KerasClassifier(build_fn = lstm_rnn, epochs = 75, batch_size = 50)\n"
          ]
        },
        {
          "output_type": "stream",
          "name": "stdout",
          "text": [
            "Model: \"sequential\"\n",
            "_________________________________________________________________\n",
            " Layer (type)                Output Shape              Param #   \n",
            "=================================================================\n",
            " simple_rnn (SimpleRNN)      (None, 50)                2600      \n",
            "                                                                 \n",
            " dense (Dense)               (None, 2)                 102       \n",
            "                                                                 \n",
            " activation (Activation)     (None, 2)                 0         \n",
            "                                                                 \n",
            "=================================================================\n",
            "Total params: 2,702\n",
            "Trainable params: 2,702\n",
            "Non-trainable params: 0\n",
            "_________________________________________________________________\n",
            "Epoch 1/75\n"
          ]
        },
        {
          "output_type": "stream",
          "name": "stderr",
          "text": [
            "/usr/local/lib/python3.9/dist-packages/keras/optimizers/legacy/adam.py:117: UserWarning: The `lr` argument is deprecated, use `learning_rate` instead.\n",
            "  super().__init__(name, **kwargs)\n"
          ]
        },
        {
          "output_type": "stream",
          "name": "stdout",
          "text": [
            "15/15 [==============================] - 1s 3ms/step - loss: 0.5961 - accuracy: 0.6934\n",
            "Epoch 2/75\n",
            "15/15 [==============================] - 0s 3ms/step - loss: 0.5510 - accuracy: 0.7075\n",
            "Epoch 3/75\n",
            "15/15 [==============================] - 0s 3ms/step - loss: 0.5266 - accuracy: 0.7581\n",
            "Epoch 4/75\n",
            "15/15 [==============================] - 0s 3ms/step - loss: 0.5218 - accuracy: 0.7707\n",
            "Epoch 5/75\n",
            "15/15 [==============================] - 0s 5ms/step - loss: 0.5211 - accuracy: 0.7581\n",
            "Epoch 6/75\n",
            "15/15 [==============================] - 0s 5ms/step - loss: 0.4799 - accuracy: 0.8270\n",
            "Epoch 7/75\n",
            "15/15 [==============================] - 0s 4ms/step - loss: 0.4625 - accuracy: 0.8312\n",
            "Epoch 8/75\n",
            "15/15 [==============================] - 0s 5ms/step - loss: 0.4514 - accuracy: 0.8186\n",
            "Epoch 9/75\n",
            "15/15 [==============================] - 0s 6ms/step - loss: 0.4417 - accuracy: 0.8312\n",
            "Epoch 10/75\n",
            "15/15 [==============================] - 0s 4ms/step - loss: 0.4434 - accuracy: 0.8115\n",
            "Epoch 11/75\n",
            "15/15 [==============================] - 0s 3ms/step - loss: 0.4235 - accuracy: 0.8284\n",
            "Epoch 12/75\n",
            "15/15 [==============================] - 0s 3ms/step - loss: 0.4143 - accuracy: 0.8383\n",
            "Epoch 13/75\n",
            "15/15 [==============================] - 0s 3ms/step - loss: 0.4137 - accuracy: 0.8354\n",
            "Epoch 14/75\n",
            "15/15 [==============================] - 0s 3ms/step - loss: 0.4054 - accuracy: 0.8439\n",
            "Epoch 15/75\n",
            "15/15 [==============================] - 0s 4ms/step - loss: 0.3981 - accuracy: 0.8411\n",
            "Epoch 16/75\n",
            "15/15 [==============================] - 0s 4ms/step - loss: 0.4021 - accuracy: 0.8425\n",
            "Epoch 17/75\n",
            "15/15 [==============================] - 0s 4ms/step - loss: 0.3956 - accuracy: 0.8509\n",
            "Epoch 18/75\n",
            "15/15 [==============================] - 0s 5ms/step - loss: 0.3956 - accuracy: 0.8411\n",
            "Epoch 19/75\n",
            "15/15 [==============================] - 0s 5ms/step - loss: 0.3917 - accuracy: 0.8551\n",
            "Epoch 20/75\n",
            "15/15 [==============================] - 0s 3ms/step - loss: 0.3918 - accuracy: 0.8523\n",
            "Epoch 21/75\n",
            "15/15 [==============================] - 0s 3ms/step - loss: 0.3957 - accuracy: 0.8340\n",
            "Epoch 22/75\n",
            "15/15 [==============================] - 0s 3ms/step - loss: 0.3832 - accuracy: 0.8579\n",
            "Epoch 23/75\n",
            "15/15 [==============================] - 0s 2ms/step - loss: 0.3735 - accuracy: 0.8537\n",
            "Epoch 24/75\n",
            "15/15 [==============================] - 0s 2ms/step - loss: 0.4014 - accuracy: 0.8397\n",
            "Epoch 25/75\n",
            "15/15 [==============================] - 0s 2ms/step - loss: 0.3828 - accuracy: 0.8495\n",
            "Epoch 26/75\n",
            "15/15 [==============================] - 0s 2ms/step - loss: 0.3691 - accuracy: 0.8608\n",
            "Epoch 27/75\n",
            "15/15 [==============================] - 0s 4ms/step - loss: 0.3686 - accuracy: 0.8481\n",
            "Epoch 28/75\n",
            "15/15 [==============================] - 0s 4ms/step - loss: 0.3663 - accuracy: 0.8636\n",
            "Epoch 29/75\n",
            "15/15 [==============================] - 0s 3ms/step - loss: 0.3845 - accuracy: 0.8523\n",
            "Epoch 30/75\n",
            "15/15 [==============================] - 0s 3ms/step - loss: 0.3634 - accuracy: 0.8579\n",
            "Epoch 31/75\n",
            "15/15 [==============================] - 0s 3ms/step - loss: 0.3671 - accuracy: 0.8509\n",
            "Epoch 32/75\n",
            "15/15 [==============================] - 0s 4ms/step - loss: 0.3624 - accuracy: 0.8622\n",
            "Epoch 33/75\n",
            "15/15 [==============================] - 0s 6ms/step - loss: 0.3600 - accuracy: 0.8622\n",
            "Epoch 34/75\n",
            "15/15 [==============================] - 0s 6ms/step - loss: 0.3615 - accuracy: 0.8523\n",
            "Epoch 35/75\n",
            "15/15 [==============================] - 0s 6ms/step - loss: 0.3675 - accuracy: 0.8551\n",
            "Epoch 36/75\n",
            "15/15 [==============================] - 0s 5ms/step - loss: 0.3575 - accuracy: 0.8636\n",
            "Epoch 37/75\n",
            "15/15 [==============================] - 0s 4ms/step - loss: 0.3555 - accuracy: 0.8622\n",
            "Epoch 38/75\n",
            "15/15 [==============================] - 0s 4ms/step - loss: 0.3567 - accuracy: 0.8664\n",
            "Epoch 39/75\n",
            "15/15 [==============================] - 0s 3ms/step - loss: 0.3566 - accuracy: 0.8706\n",
            "Epoch 40/75\n",
            "15/15 [==============================] - 0s 3ms/step - loss: 0.3517 - accuracy: 0.8523\n",
            "Epoch 41/75\n",
            "15/15 [==============================] - 0s 7ms/step - loss: 0.3590 - accuracy: 0.8565\n",
            "Epoch 42/75\n",
            "15/15 [==============================] - 0s 5ms/step - loss: 0.3530 - accuracy: 0.8678\n",
            "Epoch 43/75\n",
            "15/15 [==============================] - 0s 6ms/step - loss: 0.3549 - accuracy: 0.8608\n",
            "Epoch 44/75\n",
            "15/15 [==============================] - 0s 6ms/step - loss: 0.3597 - accuracy: 0.8565\n",
            "Epoch 45/75\n",
            "15/15 [==============================] - 0s 3ms/step - loss: 0.3496 - accuracy: 0.8579\n",
            "Epoch 46/75\n",
            "15/15 [==============================] - 0s 3ms/step - loss: 0.3519 - accuracy: 0.8439\n",
            "Epoch 47/75\n",
            "15/15 [==============================] - 0s 3ms/step - loss: 0.3478 - accuracy: 0.8734\n",
            "Epoch 48/75\n",
            "15/15 [==============================] - 0s 4ms/step - loss: 0.3439 - accuracy: 0.8636\n",
            "Epoch 49/75\n",
            "15/15 [==============================] - 0s 3ms/step - loss: 0.3472 - accuracy: 0.8664\n",
            "Epoch 50/75\n",
            "15/15 [==============================] - 0s 3ms/step - loss: 0.3499 - accuracy: 0.8650\n",
            "Epoch 51/75\n",
            "15/15 [==============================] - 0s 3ms/step - loss: 0.3402 - accuracy: 0.8734\n",
            "Epoch 52/75\n",
            "15/15 [==============================] - 0s 3ms/step - loss: 0.3419 - accuracy: 0.8664\n",
            "Epoch 53/75\n",
            "15/15 [==============================] - 0s 3ms/step - loss: 0.3411 - accuracy: 0.8636\n",
            "Epoch 54/75\n",
            "15/15 [==============================] - 0s 3ms/step - loss: 0.3381 - accuracy: 0.8636\n",
            "Epoch 55/75\n",
            "15/15 [==============================] - 0s 3ms/step - loss: 0.3354 - accuracy: 0.8720\n",
            "Epoch 56/75\n",
            "15/15 [==============================] - 0s 4ms/step - loss: 0.3327 - accuracy: 0.8650\n",
            "Epoch 57/75\n",
            "15/15 [==============================] - 0s 5ms/step - loss: 0.3373 - accuracy: 0.8608\n",
            "Epoch 58/75\n",
            "15/15 [==============================] - 0s 5ms/step - loss: 0.3483 - accuracy: 0.8608\n",
            "Epoch 59/75\n",
            "15/15 [==============================] - 0s 5ms/step - loss: 0.3412 - accuracy: 0.8594\n",
            "Epoch 60/75\n",
            "15/15 [==============================] - 0s 5ms/step - loss: 0.3377 - accuracy: 0.8692\n",
            "Epoch 61/75\n",
            "15/15 [==============================] - 0s 3ms/step - loss: 0.3270 - accuracy: 0.8706\n",
            "Epoch 62/75\n",
            "15/15 [==============================] - 0s 3ms/step - loss: 0.3251 - accuracy: 0.8762\n",
            "Epoch 63/75\n",
            "15/15 [==============================] - 0s 3ms/step - loss: 0.3313 - accuracy: 0.8720\n",
            "Epoch 64/75\n",
            "15/15 [==============================] - 0s 3ms/step - loss: 0.3249 - accuracy: 0.8664\n",
            "Epoch 65/75\n",
            "15/15 [==============================] - 0s 3ms/step - loss: 0.3302 - accuracy: 0.8762\n",
            "Epoch 66/75\n",
            "15/15 [==============================] - 0s 3ms/step - loss: 0.3225 - accuracy: 0.8664\n",
            "Epoch 67/75\n",
            "15/15 [==============================] - 0s 3ms/step - loss: 0.3119 - accuracy: 0.8692\n",
            "Epoch 68/75\n",
            "15/15 [==============================] - 0s 3ms/step - loss: 0.3245 - accuracy: 0.8734\n",
            "Epoch 69/75\n",
            "15/15 [==============================] - 0s 3ms/step - loss: 0.3167 - accuracy: 0.8748\n",
            "Epoch 70/75\n",
            "15/15 [==============================] - 0s 3ms/step - loss: 0.3203 - accuracy: 0.8706\n",
            "Epoch 71/75\n",
            "15/15 [==============================] - 0s 3ms/step - loss: 0.3274 - accuracy: 0.8678\n",
            "Epoch 72/75\n",
            "15/15 [==============================] - 0s 3ms/step - loss: 0.3195 - accuracy: 0.8622\n",
            "Epoch 73/75\n",
            "15/15 [==============================] - 0s 3ms/step - loss: 0.3044 - accuracy: 0.8805\n",
            "Epoch 74/75\n",
            "15/15 [==============================] - 0s 3ms/step - loss: 0.3074 - accuracy: 0.8762\n",
            "Epoch 75/75\n",
            "15/15 [==============================] - 0s 3ms/step - loss: 0.3037 - accuracy: 0.8776\n"
          ]
        },
        {
          "output_type": "execute_result",
          "data": {
            "text/plain": [
              "<keras.callbacks.History at 0x7f992e646e80>"
            ]
          },
          "metadata": {},
          "execution_count": 15
        }
      ]
    },
    {
      "cell_type": "code",
      "source": [
        "from sklearn.metrics import accuracy_score\n",
        "y_pred = model.predict(X_test)\n",
        "y_test_ = np.argmax(y_test, axis = 1)\n",
        "\n",
        "print(accuracy_score(y_pred, y_test_))"
      ],
      "metadata": {
        "colab": {
          "base_uri": "https://localhost:8080/"
        },
        "id": "uguoGohfnx0R",
        "outputId": "c314359e-1ae0-493b-cfc8-bcca592638ab"
      },
      "execution_count": null,
      "outputs": [
        {
          "output_type": "stream",
          "name": "stdout",
          "text": [
            "10/10 [==============================] - 0s 2ms/step\n",
            "0.8819672131147541\n"
          ]
        }
      ]
    },
    {
      "cell_type": "code",
      "source": [
        "from sklearn.metrics import confusion_matrix, accuracy_score\n",
        "print(\"Confusion Matrix:\")\n",
        "cm6=confusion_matrix(y_test_, y_pred)\n",
        "ax=plt.subplot()\n",
        "sns.heatmap(cm6,annot=True,linewidth=0.5,linecolor='red',ax=ax)\n",
        "plt.title(\"Confusion Matrix\")\n",
        "plt.xlabel(\"Predicted Value\")\n",
        "plt.xlabel(\"Actual Value\")\n",
        "plt.show()\n",
        "tn6, fp6, fn6, tp6 = confusion_matrix(y_test_, y_pred).ravel()\n",
        "print(\"True negative {}\".format(tn6))\n",
        "print(\"False positive {}\".format(fp6))\n",
        "print(\"False negative {}\".format(fn6))\n",
        "print(\"True positive {}\".format(tp6))\n",
        "accuracy= ((float(tp6)+float(tn6))/(float(tp6)+float(tn6)+float(fp6)+float(fn6)))*100\n",
        "print ('Accuracy rate: {:.3f}'.format(accuracy))\n",
        "sensitivity6 = float(tp6)/(float(tp6)+float(fn6))            # proportion of true positive samples that are correctly predicted by the model\n",
        "print ('Sensitivy/recall (TP/TP+FN): {:.5f}'.format(sensitivity6))\n",
        "#False positive rate                                          #  specificity:proportion of true negative samples (i.e., samples from the negative class) that are correctly predicted by the model.\n",
        "print ('False positive rate (FP/FP+TN): {:.5f}'.format(float(fp6)/(float(fp6)+float(tn6))))\n",
        "print ('False positive rate (1-specificity): {:.5f}'.format(1-(float(tn6)/(float(tn6)+float(fp6)))))\n"
      ],
      "metadata": {
        "colab": {
          "base_uri": "https://localhost:8080/",
          "height": 628
        },
        "id": "HHb3RPY9n1B3",
        "outputId": "d60dc1b7-e974-4fd0-9600-f91c4d80597c"
      },
      "execution_count": null,
      "outputs": [
        {
          "output_type": "stream",
          "name": "stdout",
          "text": [
            "Confusion Matrix:\n"
          ]
        },
        {
          "output_type": "display_data",
          "data": {
            "text/plain": [
              "<Figure size 640x480 with 2 Axes>"
            ],
            "image/png": "[encoded data removed]"
          },
          "metadata": {}
        },
        {
          "output_type": "stream",
          "name": "stdout",
          "text": [
            "True negative 135\n",
            "False positive 18\n",
            "False negative 18\n",
            "True positive 134\n",
            "Accuracy rate: 88.197\n",
            "Sensitivy/recall (TP/TP+FN): 0.88158\n",
            "False positive rate (FP/FP+TN): 0.11765\n",
            "False positive rate (1-specificity): 0.11765\n"
          ]
        }
      ]
    },
    {
      "cell_type": "code",
      "source": [],
      "metadata": {
        "id": "Cljx847qSWMe"
      },
      "execution_count": null,
      "outputs": []
    }
  ]
}